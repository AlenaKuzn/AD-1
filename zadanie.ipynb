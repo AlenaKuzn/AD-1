{
 "cells": [
  {
   "cell_type": "markdown",
   "id": "1bc2dc3c",
   "metadata": {},
   "source": [
    "# Лабораторная работа 1"
   ]
  },
  {
   "cell_type": "markdown",
   "id": "f3093ccd",
   "metadata": {},
   "source": [
    "Задание:\n",
    "*   Найти датасет.\n",
    "*   Произвести выборки, определить t-критерий Стьюдента.\n",
    "*   Anova test\n",
    "*   Сделать выводы."
   ]
  },
  {
   "cell_type": "markdown",
   "id": "c26c1d64",
   "metadata": {},
   "source": [
    "## t-критерий Стьюдента"
   ]
  },
  {
   "cell_type": "code",
   "execution_count": 21,
   "id": "1cd5f343",
   "metadata": {},
   "outputs": [],
   "source": [
    "import scipy.stats as stats\n",
    "import csv\n",
    "\n",
    "%matplotlib inline"
   ]
  },
  {
   "cell_type": "markdown",
   "id": "8cf7db40",
   "metadata": {},
   "source": [
    "Даны две выборки: цена акций в сентябре 2022 года и в сентябре 2023 года."
   ]
  },
  {
   "cell_type": "code",
   "execution_count": 22,
   "id": "0381af30",
   "metadata": {},
   "outputs": [],
   "source": [
    "with open('lukoil.csv', 'r', newline = '') as csvfile:\n",
    "    data = csv.reader(csvfile, delimiter = ';')\n",
    "    sen_22 = []\n",
    "    sen_23 = []\n",
    "    next(data)\n",
    "    for row in data:\n",
    "        sen_22.append(int(row[1]))\n",
    "        sen_23.append(int(row[0]))"
   ]
  },
  {
   "cell_type": "code",
   "execution_count": 23,
   "id": "704b434d",
   "metadata": {},
   "outputs": [
    {
     "name": "stdout",
     "output_type": "stream",
     "text": [
      "Ttest_indResult(statistic=-54.83220625470438, pvalue=8.723169891093067e-38)\n"
     ]
    }
   ],
   "source": [
    "print(stats.ttest_ind(sen_22, sen_23))"
   ]
  },
  {
   "cell_type": "markdown",
   "id": "d6da587b",
   "metadata": {},
   "source": [
    "Т.к. P < 0.05 нулевая гипотеза о равенстве средних значений отвергается в пользу альтернативной гипотезы о их различии."
   ]
  },
  {
   "cell_type": "markdown",
   "id": "fdf9a5f7",
   "metadata": {},
   "source": [
    "## Anova\n"
   ]
  },
  {
   "cell_type": "code",
   "execution_count": 24,
   "id": "a1dda73c",
   "metadata": {},
   "outputs": [
    {
     "data": {
      "text/plain": [
       "F_onewayResult(statistic=3006.5708427584423, pvalue=8.723169891093025e-38)"
      ]
     },
     "execution_count": 24,
     "metadata": {},
     "output_type": "execute_result"
    }
   ],
   "source": [
    "from scipy.stats import f_oneway\n",
    "\n",
    "f_oneway(sen_22, sen_23)"
   ]
  },
  {
   "cell_type": "markdown",
   "id": "8cff486f",
   "metadata": {},
   "source": [
    "Т.к. P < 0.05, нулевая гипотеза о равенстве средних значений отвергается. Также можем сделать вывод о значимом различии между средними значениями."
   ]
  }
 ],
 "metadata": {
  "kernelspec": {
   "display_name": "Python 3 (ipykernel)",
   "language": "python",
   "name": "python3"
  },
  "language_info": {
   "codemirror_mode": {
    "name": "ipython",
    "version": 3
   },
   "file_extension": ".py",
   "mimetype": "text/x-python",
   "name": "python",
   "nbconvert_exporter": "python",
   "pygments_lexer": "ipython3",
   "version": "3.9.13"
  }
 },
 "nbformat": 4,
 "nbformat_minor": 5
}
